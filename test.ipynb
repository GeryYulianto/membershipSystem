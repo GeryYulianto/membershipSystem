{
 "cells": [
  {
   "cell_type": "code",
   "execution_count": 47,
   "metadata": {},
   "outputs": [
    {
     "name": "stdout",
     "output_type": "stream",
     "text": [
      "2024-10-17 10:53\n"
     ]
    }
   ],
   "source": [
    "from datetime import datetime\n",
    "\n",
    "current_time = datetime.now()\n",
    "formatted_time = current_time.strftime(\"%Y-%m-%d %H:%M\")\n",
    "\n",
    "print(formatted_time)"
   ]
  },
  {
   "cell_type": "code",
   "execution_count": 48,
   "metadata": {},
   "outputs": [
    {
     "data": {
      "text/plain": [
       "'2024-10-17 10:53'"
      ]
     },
     "execution_count": 48,
     "metadata": {},
     "output_type": "execute_result"
    }
   ],
   "source": [
    "formatted_time"
   ]
  },
  {
   "cell_type": "code",
   "execution_count": 49,
   "metadata": {},
   "outputs": [
    {
     "name": "stdout",
     "output_type": "stream",
     "text": [
      "1:00:00\n"
     ]
    }
   ],
   "source": [
    "# String datetime\n",
    "datetime_str1 = '2024-10-17 10:45'\n",
    "datetime_str2 = '2024-10-17 09:45'\n",
    "\n",
    "# Mengonversi string ke objek datetime\n",
    "datetime1 = datetime.strptime(datetime_str1, '%Y-%m-%d %H:%M')\n",
    "datetime2 = datetime.strptime(datetime_str2, '%Y-%m-%d %H:%M')\n",
    "\n",
    "# Menghitung selisih\n",
    "time_difference = datetime1 - datetime2\n",
    "\n",
    "# Mencetak hasil\n",
    "print(time_difference)  # Ini akan mencetak: 1:00:00"
   ]
  },
  {
   "cell_type": "code",
   "execution_count": 50,
   "metadata": {},
   "outputs": [
    {
     "name": "stdout",
     "output_type": "stream",
     "text": [
      "2024-10-18 14:00\n"
     ]
    }
   ],
   "source": [
    "from datetime import datetime, timedelta\n",
    "\n",
    "def attendance_gap(new_datetime, last_datetime, min_gap_hours=24):\n",
    "    if isinstance(new_datetime, str):\n",
    "        new_datetime = datetime.strptime(new_datetime, '%Y-%m-%d %H:%M')\n",
    "    if isinstance(last_datetime, str):\n",
    "        last_datetime = datetime.strptime(last_datetime, '%Y-%m-%d %H:%M')\n",
    "    \n",
    "    min_gap = timedelta(hours=min_gap_hours)\n",
    "    time_difference = new_datetime - last_datetime\n",
    "    \n",
    "    if time_difference < min_gap:\n",
    "        return \"failed\"\n",
    "    return new_datetime.strftime('%Y-%m-%d %H:%M')\n",
    "\n",
    "# Contoh penggunaan\n",
    "last_attendance = '2024-10-17 09:45'\n",
    "new_attendance = '2024-10-18 14:00'\n",
    "result = attendance_gap(new_attendance, last_attendance)\n",
    "print(result)  # Akan mencetak new_attendance jika berhasil, atau \"failed\" jika gagal"
   ]
  },
  {
   "cell_type": "code",
   "execution_count": 56,
   "metadata": {},
   "outputs": [
    {
     "name": "stdout",
     "output_type": "stream",
     "text": [
      "2024-10-17 09:45\n"
     ]
    }
   ],
   "source": [
    "aa = [['1', 'Brian', '2024-10-17 09:45']]\n",
    "print(aa[0][-1])"
   ]
  }
 ],
 "metadata": {
  "kernelspec": {
   "display_name": "Python 3",
   "language": "python",
   "name": "python3"
  },
  "language_info": {
   "codemirror_mode": {
    "name": "ipython",
    "version": 3
   },
   "file_extension": ".py",
   "mimetype": "text/x-python",
   "name": "python",
   "nbconvert_exporter": "python",
   "pygments_lexer": "ipython3",
   "version": "3.12.0"
  }
 },
 "nbformat": 4,
 "nbformat_minor": 2
}
